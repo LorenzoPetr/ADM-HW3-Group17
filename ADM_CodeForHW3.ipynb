{
 "cells": [
  {
   "cell_type": "code",
   "execution_count": 1,
   "metadata": {},
   "outputs": [],
   "source": [
    "from bs4 import BeautifulSoup\n",
    "import requests\n",
    "import re\n",
    "import urllib.request\n",
    "from urllib.request import urlopen\n",
    "import os"
   ]
  },
  {
   "cell_type": "code",
   "execution_count": null,
   "metadata": {},
   "outputs": [],
   "source": []
  },
  {
   "cell_type": "code",
   "execution_count": 22,
   "metadata": {},
   "outputs": [],
   "source": [
    "#soup = BeautifulSoup(open(\"Best Books Ever (53139 books).html\"), features=\"lxml\") \n",
    "#not convenient.. let's try to load the page"
   ]
  },
  {
   "cell_type": "code",
   "execution_count": 9,
   "metadata": {},
   "outputs": [],
   "source": [
    "#Exercise 1.1\n",
    "\n",
    "web_page = requests.get(\"https://www.goodreads.com/list/show/1.Best_Books_Ever?page=1\")\n",
    "\n",
    "def get_url(url):\n",
    "    req = urllib.request.Request(url)\n",
    "    return urllib.request.urlopen(req)\n",
    "\n",
    "def listToString(s):  \n",
    "    \n",
    "    # initialize an empty string \n",
    "    str1 = \"\\n\"\n",
    "    # return string   \n",
    "    return (str1.join(s)) "
   ]
  },
  {
   "cell_type": "code",
   "execution_count": 44,
   "metadata": {},
   "outputs": [],
   "source": [
    "page = 151\n",
    "books_urls = []\n",
    "while (page>=151 and page <= 300):\n",
    "    web_page = requests.get(\"https://www.goodreads.com/list/show/1.Best_Books_Ever?page={}\".format(page))\n",
    "    soup = BeautifulSoup(web_page.content, features=\"lxml\")\n",
    "    for link in soup.find_all('a', class_='bookTitle', itemprop = 'url', href = True):\n",
    "        url = link.get('href')\n",
    "        url = \"https://www.goodreads.com/\"+url\n",
    "        books_urls.append(url)\n",
    "    #book_links = print_book_links(soup)\n",
    "    str_book_links = listToString(books_urls)\n",
    "    page+=1"
   ]
  },
  {
   "cell_type": "code",
   "execution_count": 43,
   "metadata": {},
   "outputs": [
    {
     "data": {
      "text/plain": [
       "'/book/show/2767052-the-hunger-games\\n/book/show/2.Harry_Potter_and_the_Order_of_the_Phoenix\\n/book/show/2657.To_Kill_a_Mockingbird\\n/book/show/1885.Pride_and_Prejudice\\n/book/show/41865.Twilight\\n/book/show/19063.The_Book_Thief\\n/book/show/170448.Animal_Farm\\n/book/show/11127.The_Chronicles_of_Narnia\\n/book/show/30.J_R_R_Tolkien_4_Book_Boxed_Set\\n/book/show/11870085-the-fault-in-our-stars\\n/book/show/18405.Gone_with_the_Wind\\n/book/show/386162.The_Hitchhiker_s_Guide_to_the_Galaxy\\n/book/show/370493.The_Giving_Tree\\n/book/show/6185.Wuthering_Heights\\n/book/show/968.The_Da_Vinci_Code\\n/book/show/5297.The_Picture_of_Dorian_Gray\\n/book/show/929.Memoirs_of_a_Geisha\\n/book/show/24213.Alice_s_Adventures_in_Wonderland_Through_the_Looking_Glass\\n/book/show/10210.Jane_Eyre\\n/book/show/24280.Les_Mis_rables\\n/book/show/13079982-fahrenheit-451\\n/book/show/13335037-divergent\\n/book/show/7624.Lord_of_the_Flies\\n/book/show/18135.Romeo_and_Juliet\\n/book/show/18144590-the-alchemist\\n/book/show/22628.The_Perks_of_Being_a_Wallflower\\n/book/show/7144.Crime_and_Punishment\\n/book/show/4671.The_Great_Gatsby\\n/book/show/256683.City_of_Bones\\n/book/show/375802.Ender_s_Game\\n/book/show/4667024-the-help\\n/book/show/3.Harry_Potter_and_the_Sorcerer_s_Stone\\n/book/show/8127.Anne_of_Green_Gables\\n/book/show/157993.The_Little_Prince\\n/book/show/24178.Charlotte_s_Web\\n/book/show/890.Of_Mice_and_Men\\n/book/show/18619684-the-time-traveler-s-wife\\n/book/show/17245.Dracula\\n/book/show/5129.Brave_New_World\\n/book/show/320.One_Hundred_Years_of_Solitude\\n/book/show/5107.The_Catcher_in_the_Rye\\n/book/show/21787.The_Princess_Bride\\n/book/show/28187.The_Lightning_Thief\\n/book/show/2998.The_Secret_Garden\\n/book/show/128029.A_Thousand_Splendid_Suns\\n/book/show/13496.A_Game_of_Thrones\\n/book/show/33574273-a-wrinkle-in-time\\n/book/show/2956.The_Adventures_of_Huckleberry_Finn\\n/book/show/231804.The_Outsiders\\n/book/show/12232938-the-lovely-bones\\n/book/show/19543.Where_the_Wild_Things_Are\\n/book/show/23772.Green_Eggs_and_Ham\\n/book/show/1381.The_Odyssey\\n/book/show/4214.Life_of_Pi\\n/book/show/1953.A_Tale_of_Two_Cities\\n/book/show/43641.Water_for_Elephants\\n/book/show/7604.Lolita\\n/book/show/4981.Slaughterhouse_Five\\n/book/show/35031085-frankenstein\\n/book/show/77203.The_Kite_Runner\\n/book/show/38447.The_Handmaid_s_Tale\\n/book/show/3636.The_Giver\\n/book/show/168668.Catch_22\\n/book/show/44767458-dune\\n/book/show/5043.The_Pillars_of_the_Earth\\n/book/show/149267.The_Stand\\n/book/show/3590.The_Adventures_of_Sherlock_Holmes\\n/book/show/76620.Watership_Down\\n/book/show/2623.Great_Expectations\\n/book/show/1934.Little_Women\\n/book/show/136251.Harry_Potter_and_the_Deathly_Hallows\\n/book/show/6514.The_Bell_Jar\\n/book/show/332613.One_Flew_Over_the_Cuckoo_s_Nest\\n/book/show/15823480-anna-karenina\\n/book/show/10964.Outlander\\n/book/show/39988.Matilda\\n/book/show/10917.My_Sister_s_Keeper\\n/book/show/2429135.The_Girl_with_the_Dragon_Tattoo\\n/book/show/17899948-rebecca\\n/book/show/40961427-1984\\n/book/show/52892857-the-color-purple\\n/book/show/14891.A_Tree_Grows_in_Brooklyn\\n/book/show/41817486-a-clockwork-orange\\n/book/show/6288.The_Road\\n/book/show/4934.The_Brothers_Karamazov\\n/book/show/252577.Angela_s_Ashes\\n/book/show/345627.Vampire_Academy\\n/book/show/52036.Siddhartha\\n/book/show/7244.The_Poisonwood_Bible\\n/book/show/119322.The_Golden_Compass\\n/book/show/3836.Don_Quixote\\n/book/show/5.Harry_Potter_and_the_Prisoner_of_Azkaban\\n/book/show/3263607-the-fellowship-of-the-ring\\n/book/show/662.Atlas_Shrugged\\n/book/show/2165.The_Old_Man_and_the_Sea\\n/book/show/33648131-the-notebook\\n/book/show/99107.Winnie_the_Pooh\\n/book/show/23919.The_Complete_Stories_and_Poems\\n/book/show/43763.Interview_with_the_Vampire\\n/book/show/4473.A_Prayer_for_Owen_Meany\\n/book/show/153747.Moby_Dick_or_the_Whale\\n/book/show/4989.The_Red_Tent\\n/book/show/6.Harry_Potter_and_the_Goblet_of_Fire\\n/book/show/37435.The_Secret_Life_of_Bees\\n/book/show/7171637-clockwork-angel\\n/book/show/1.Harry_Potter_and_the_Half_Blood_Prince\\n/book/show/16299.And_Then_There_Were_None\\n/book/show/2187.Middlesex\\n/book/show/49552.The_Stranger\\n/book/show/117833.The_Master_and_Margarita\\n/book/show/186074.The_Name_of_the_Wind\\n/book/show/11588.The_Shining\\n/book/show/24583.The_Adventures_of_Tom_Sawyer\\n/book/show/113436.Eragon\\n/book/show/6310.Charlie_and_the_Chocolate_Factory\\n/book/show/36576608-flowers-for-algernon\\n/book/show/70401.On_the_Road\\n/book/show/485894.The_Metamorphosis\\n/book/show/99561.Looking_for_Alaska\\n/book/show/1232.The_Shadow_of_the_Wind\\n/book/show/1618.The_Curious_Incident_of_the_Dog_in_the_Night_Time\\n/book/show/4948.The_Very_Hungry_Caterpillar\\n/book/show/6900.Tuesdays_with_Morrie\\n/book/show/9717.The_Unbearable_Lightness_of_Being\\n/book/show/119073.The_Name_of_the_Rose\\n/book/show/15881.Harry_Potter_and_the_Chamber_of_Secrets\\n/book/show/10365.Where_the_Red_Fern_Grows\\n/book/show/22034.The_Godfather\\n/book/show/12296.The_Scarlet_Letter\\n/book/show/168642.In_Cold_Blood\\n/book/show/3431.The_Five_People_You_Meet_in_Heaven\\n/book/show/36236124-fight-club\\n/book/show/6339664-hush-hush\\n/book/show/233093.The_Cat_in_the_Hat\\n/book/show/7126.The_Count_of_Monte_Cristo\\n/book/show/30165203-american-gods\\n/book/show/343.Perfume\\n/book/show/256008.Lonesome_Dove\\n/book/show/38709.Holes\\n/book/show/100915.The_Lion_the_Witch_and_the_Wardrobe\\n/book/show/4556058-the-last-olympian\\n/book/show/472331.Watchmen\\n/book/show/830502.It\\n/book/show/114345.The_Little_House_Collection\\n/book/show/6656.The_Divine_Comedy\\n/book/show/34268.Peter_Pan\\n/book/show/355697.All_Quiet_on_the_Western_Front\\n/book/show/5907.The_Hobbit_or_There_and_Back_Again\\n/book/show/1423.The_Compleat_Works_of_Wllm_Shkspr\\n/book/show/9712.Love_in_the_Time_of_Cholera\\n/book/show/2802316-shadow-kiss\\n/book/show/11735983-insurgent\\n/book/show/3412.The_Thorn_Birds\\n/book/show/35545737-a-walk-to-remember\\n/book/show/113946.How_the_Grinch_Stole_Christmas_\\n/book/show/13.The_Ultimate_Hitchhiker_s_Guide_to_the_Galaxy\\n/book/show/19501.Eat_Pray_Love\\n/book/show/6867.Atonement\\n/book/show/92303.The_Importance_of_Being_Earnest\\n/book/show/37415.Their_Eyes_Were_Watching_God\\n/book/show/7190.The_Three_Musketeers\\n/book/show/236093.The_Wonderful_Wizard_of_Oz\\n/book/show/2282133.Frostbite\\n/book/show/32929.Goodnight_Moon\\n/book/show/12067.Good_Omens\\n/book/show/7784.The_Lorax\\n/book/show/34.The_Fellowship_of_the_Ring\\n/book/show/5996153-blood-promise\\n/book/show/32261.Tess_of_the_D_Urbervilles\\n/book/show/4900.Heart_of_Darkness\\n/book/show/1078.The_Good_Earth\\n/book/show/18335634-clockwork-princess\\n/book/show/2120932.The_Battle_of_the_Labyrinth\\n/book/show/1622.A_Midsummer_Night_s_Dream\\n/book/show/2547.The_Prophet\\n/book/show/40605251-the-mists-of-avalon\\n/book/show/561456.The_Titan_s_Curse\\n/book/show/28186.The_Sea_of_Monsters\\n/book/show/7763.The_Joy_Luck_Club\\n/book/show/13023.Alice_in_Wonderland\\n/book/show/1852.The_Call_of_the_Wild\\n/book/show/71728.Jonathan_Livingston_Seagull\\n/book/show/2175.Madame_Bovary\\n/book/show/378.The_Phantom_Tollbooth\\n/book/show/40940121-bridge-to-terabithia\\n/book/show/7938275-the-hunger-games-trilogy-boxset\\n/book/show/191139.Oh_the_Places_You_ll_Go_\\n/book/show/6186357-the-maze-runner\\n/book/show/5060378-the-girl-who-played-with-fire\\n/book/show/18254.Oliver_Twist\\n/book/show/27712.The_Neverending_Story\\n/book/show/338798.Ulysses\\n/book/show/295.Treasure_Island\\n/book/show/10818853-fifty-shades-of-grey\\n/book/show/40611463-the-clan-of-the-cave-bear\\n/book/show/62291.A_Storm_of_Swords\\n/book/show/2696.The_Canterbury_Tales\\n/book/show/7069.The_World_According_to_Garp\\n/book/show/10799.A_Farewell_to_Arms\\n/book/show/58696.David_Copperfield\\n/book/show/6350972-tote-m-dchen-l-gen-nicht\\n/book/show/37442.Wicked\\n/book/show/402093.Sh_gun\\n/book/show/853510.Murder_on_the_Orient_Express\\n/book/show/4588.Extremely_Loud_Incredibly_Close\\n/book/show/18116.His_Dark_Materials\\n/book/show/3008.A_Little_Princess\\n/book/show/375013.Schindler_s_List\\n/book/show/37470.The_Other_Boleyn_Girl\\n/book/show/39999.The_Boy_in_the_Striped_Pajamas\\n/book/show/9361589-the-night-circus\\n/book/show/40604658-jurassic-park\\n/book/show/6487308-fallen\\n/book/show/6527740-last-sacrifice\\n/book/show/7332.The_Silmarillion\\n/book/show/514811.The_Secret_Magdalene\\n/book/show/6149.Beloved\\n/book/show/10507293-the-selection\\n/book/show/17690.The_Trial\\n/book/show/310612.A_Confederacy_of_Dunces\\n/book/show/3876.The_Sun_Also_Rises\\n/book/show/144974.The_Velveteen_Rabbit\\n/book/show/6148028-catching-fire\\n/book/show/7896527-throne-of-glass\\n/book/show/7736182-the-lost-hero\\n/book/show/10025305-clockwork-prince\\n/book/show/6479259-spirit-bound\\n/book/show/1375.The_Iliad_The_Odyssey\\n/book/show/17250.The_Crucible\\n/book/show/135479.Cat_s_Cradle\\n/book/show/9777.The_God_of_Small_Things\\n/book/show/5659.The_Wind_in_the_Willows\\n/book/show/8130077-the-screwtape-letters\\n/book/show/2865.Girl_with_a_Pearl_Earring\\n/book/show/561909.The_Hiding_Place\\n/book/show/30118.A_Light_in_the_Attic\\n/book/show/23807.The_Silence_of_the_Lambs\\n/book/show/4069.Man_s_Search_for_Meaning\\n/book/show/6752378-city-of-fallen-angels\\n/book/show/6068551-shiver\\n/book/show/24770.Uglies\\n/book/show/5203.She_s_Come_Undone\\n/book/show/24337.Ella_Enchanted\\n/book/show/12691.Marley_and_Me\\n/book/show/480204.The_Phantom_of_the_Opera\\n/book/show/11275.The_Wind_Up_Bird_Chronicle\\n/book/show/36381037-cinder\\n/book/show/10572.A_Clash_of_Kings\\n/book/show/11566.The_Green_Mile\\n/book/show/40495148-blindness\\n/book/show/10975.The_Sound_and_the_Fury\\n/book/show/40874325-the-shack\\n/book/show/30183.Marked\\n/book/show/7745.Fear_and_Loathing_in_Las_Vegas\\n/book/show/46170.For_Whom_the_Bell_Tolls\\n/book/show/39832183-the-guernsey-literary-and-potato-peel-pie-society\\n/book/show/9328.The_House_of_the_Spirits\\n/book/show/24812.The_Complete_Calvin_and_Hobbes\\n/book/show/6294.Howl_s_Moving_Castle\\n/book/show/546018.Roots\\n/book/show/10614.Misery\\n/book/show/350.Stranger_in_a_Strange_Land\\n/book/show/41044096-island-of-the-blue-dolphins\\n/book/show/4502877-midnight-sun-2008-draft\\n/book/show/29044.The_Secret_History\\n/book/show/6892870-the-girl-who-kicked-the-hornet-s-nest\\n/book/show/48855.The_Diary_of_a_Young_Girl\\n/book/show/32234.White_Oleander\\n/book/show/11614718-delirium\\n/book/show/11505797-beautiful-disaster\\n/book/show/6442769-paper-towns\\n/book/show/6801755-flow-down-like-silver\\n/book/show/12996.Othello\\n/book/show/39280444-speak\\n/book/show/43814.The_Vampire_Lestat\\n/book/show/12505.The_Idiot\\n/book/show/12938.King_Lear\\n/book/show/43545.The_Once_and_Future_King\\n/book/show/227711.I_Know_This_Much_Is_True\\n/book/show/14497.Neverwhere\\n/book/show/1845.Into_the_Wild\\n/book/show/28194.Inkheart\\n/book/show/28881.Lamb\\n/book/show/46787.Uncle_Tom_s_Cabin\\n/book/show/30236962-the-historian\\n/book/show/188572.The_Complete_Sherlock_Holmes\\n/book/show/19288043-gone-girl\\n/book/show/19380.Candide\\n/book/show/2184798.Blood_River\\n/book/show/6689.James_and_the_Giant_Peach\\n/book/show/16981.Invisible_Man\\n/book/show/15997.Paradise_Lost\\n/book/show/32085.All_Creatures_Great_and_Small\\n/book/show/27494.Leaves_of_Grass\\n/book/show/3236307-graceling\\n/book/show/133518.The_Things_They_Carried\\n/book/show/29579.Foundation\\n/book/show/569564.The_Complete_Works\\n/book/show/40440.The_Thirteenth_Tale\\n/book/show/11297.Norwegian_Wood'"
      ]
     },
     "execution_count": 43,
     "metadata": {},
     "output_type": "execute_result"
    }
   ],
   "source": [
    "str_book_links #it looks orrible now.. but the file will be written correctly"
   ]
  },
  {
   "cell_type": "code",
   "execution_count": 45,
   "metadata": {},
   "outputs": [],
   "source": [
    "#save all links found into a file.txt\n",
    "f = open(\"BookLinks.txt\", \"w\")\n",
    "f.write(str_book_links)\n",
    "f.close()"
   ]
  },
  {
   "cell_type": "code",
   "execution_count": 14,
   "metadata": {},
   "outputs": [],
   "source": [
    "#Exercise 1.2\n",
    "\n",
    "page = 233\n",
    "htmls = []\n",
    "while (page>= 233 and page <= 300):\n",
    "    \n",
    "    directory = \"HTMLSources_Page\"+str(page)\n",
    "    parent_dir = \"/home/lorenzo/Documents/Università/1° Term/Algorithmic Methods of Data Mining/LAB/Homeworks/HW3\"\n",
    "    path = os.path.join(parent_dir, directory)\n",
    "    os.mkdir(path)\n",
    "    \n",
    "    web_page = requests.get(\"https://www.goodreads.com/list/show/1.Best_Books_Ever?page={}\".format(page))\n",
    "    soup = BeautifulSoup(web_page.content, features=\"lxml\")\n",
    "    \n",
    "    i = 1\n",
    "    \n",
    "    for link in soup.find_all('a', class_='bookTitle', itemprop = 'url', href = True):\n",
    "        url = link.get('href')\n",
    "        url = \"https://www.goodreads.com/\"+url\n",
    "        html = urllib.request.urlopen(url).read()\n",
    "        html_formatted = html.decode(\"utf-8\")\n",
    "        \n",
    "        namefile = \"Book\"+str(i)+\"_\"+\"Page\"+str(page)\n",
    "        with open(os.path.join(path,namefile), 'w') as f:\n",
    "            f.write(str(html_formatted))\n",
    "            f.close()\n",
    "        i+=1\n",
    "    \n",
    "    page+=1"
   ]
  },
  {
   "cell_type": "code",
   "execution_count": 81,
   "metadata": {},
   "outputs": [
    {
     "ename": "SyntaxError",
     "evalue": "invalid syntax (<ipython-input-81-1270d554853b>, line 31)",
     "output_type": "error",
     "traceback": [
      "\u001b[0;36m  File \u001b[0;32m\"<ipython-input-81-1270d554853b>\"\u001b[0;36m, line \u001b[0;32m31\u001b[0m\n\u001b[0;31m    print(\"Characters: \", [document.find_all(\"a\", href = href.split(\"/\")) if href[0] == \"characters\"]) ###WRONG!\u001b[0m\n\u001b[0m                                                                                                    ^\u001b[0m\n\u001b[0;31mSyntaxError\u001b[0m\u001b[0;31m:\u001b[0m invalid syntax\n"
     ]
    }
   ],
   "source": [
    "#Exercise 1.3\n",
    "\n",
    "import codecs\n",
    "\n",
    "page = 151\n",
    "\n",
    "i = 1 #book_id\n",
    "\n",
    "while (page <= 151):\n",
    "    #let's move to the correct directory --> the directory associated to the current page\n",
    "    directory = \"HTMLSources_Page\"+str(page)\n",
    "    parent_dir = \"/home/lorenzo/Documents/Università/1° Term/Algorithmic Methods of Data Mining/LAB/Homeworks/HW3\"\n",
    "    path = os.path.join(parent_dir, directory)\n",
    "    os.chdir(path)\n",
    "    \n",
    "    while (i <= 100):#each page contains 100 books\n",
    "    \n",
    "        filename = \"Book\"+str(i)+\"_Page\"+str(page)\n",
    "        #print(filename)\n",
    "    \n",
    "        #now I need to read the stored locally html files\n",
    "        file = codecs.open(filename, 'r', 'utf-8')\n",
    "        document = BeautifulSoup(file.read(), features=\"lxml\") #\"document\" contains the html text of the corresp file\n",
    "        \n",
    "        print(\"Title: \",document.find_all(\"h1\", id=\"bookTitle\", class_=\"gr-h1 gr-h1--serif\", itemprop=\"name\")[0].contents[0])\n",
    "        print(\"Series: \",document.find_all(\"a\", class_=\"greyText\")[0].contents[0])\n",
    "        print(\"Author: \",document.find_all(\"span\", itemprop=\"name\")[0].contents[0])\n",
    "        print(\"Rating Value: \",document.find_all(\"span\", itemprop=\"ratingValue\")[0].contents[0])\n",
    "        print(\"Rating Count: \",document.find_all(\"a\", class_=\"gr-hyperlink\", href=\"#other_reviews\")[0].contents[2])\n",
    "        print(\"Plot: \", ' '.join([c for c in document.find_all('div', id=\"description\")[0].contents[1].contents if isinstance(c, str)]))\n",
    "        print(\"Number of Pages: \",document.find_all(\"span\", itemprop=\"numberOfPages\")[0].contents[0])\n",
    "        print(\"Publishing Date: \", document.find_all(\"div\", class_=\"row\")[1].contents[0])\n",
    "        print(\"Characters: \", document.find_all(\"a\", href = href.split(\"/\")) if href[0] == \"characters\") ###WRONG! \n",
    "        #SETTING\n",
    "        \n",
    "        #description = ' '.join([c for c in soup.find_all('div', id=\"description\")[0].contents[1].contents if isinstance(c, str)])\n",
    "        \n",
    "        i+=1 #increment book_id\n",
    "    \n",
    "    page += 1 #increment page\n",
    "        \n",
    "    os.chdir('../') #back to the parent working directory"
   ]
  },
  {
   "cell_type": "code",
   "execution_count": null,
   "metadata": {},
   "outputs": [],
   "source": []
  },
  {
   "cell_type": "code",
   "execution_count": null,
   "metadata": {},
   "outputs": [],
   "source": []
  },
  {
   "cell_type": "code",
   "execution_count": null,
   "metadata": {},
   "outputs": [],
   "source": []
  },
  {
   "cell_type": "code",
   "execution_count": null,
   "metadata": {},
   "outputs": [],
   "source": []
  },
  {
   "cell_type": "code",
   "execution_count": null,
   "metadata": {},
   "outputs": [],
   "source": []
  },
  {
   "cell_type": "code",
   "execution_count": null,
   "metadata": {},
   "outputs": [],
   "source": []
  },
  {
   "cell_type": "code",
   "execution_count": null,
   "metadata": {},
   "outputs": [],
   "source": []
  },
  {
   "cell_type": "code",
   "execution_count": null,
   "metadata": {},
   "outputs": [],
   "source": []
  },
  {
   "cell_type": "code",
   "execution_count": null,
   "metadata": {},
   "outputs": [],
   "source": []
  },
  {
   "cell_type": "code",
   "execution_count": null,
   "metadata": {},
   "outputs": [],
   "source": []
  },
  {
   "cell_type": "code",
   "execution_count": null,
   "metadata": {},
   "outputs": [],
   "source": []
  }
 ],
 "metadata": {
  "kernelspec": {
   "display_name": "Python 3",
   "language": "python",
   "name": "python3"
  },
  "language_info": {
   "codemirror_mode": {
    "name": "ipython",
    "version": 3
   },
   "file_extension": ".py",
   "mimetype": "text/x-python",
   "name": "python",
   "nbconvert_exporter": "python",
   "pygments_lexer": "ipython3",
   "version": "3.8.3"
  }
 },
 "nbformat": 4,
 "nbformat_minor": 4
}
